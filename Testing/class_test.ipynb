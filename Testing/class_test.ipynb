{
 "cells": [
  {
   "cell_type": "code",
   "execution_count": null,
   "metadata": {},
   "outputs": [],
   "source": [
    "import sys\n",
    "import pandas as pd\n",
    "sys.path.append(\"..\") # Adds higher directory to python modules path.\n",
    "from MovieAnalysis import MovieAnalysis\n",
    "import ast\n",
    "\n",
    "MovieAnalysis()"
   ]
  },
  {
   "cell_type": "code",
   "execution_count": null,
   "metadata": {},
   "outputs": [],
   "source": [
    "analysis = MovieAnalysis()\n",
    "characters = analysis.character_data"
   ]
  },
  {
   "cell_type": "code",
   "execution_count": null,
   "metadata": {},
   "outputs": [],
   "source": [
    "characters['Actor date of birth'].unique()"
   ]
  },
  {
   "cell_type": "code",
   "execution_count": null,
   "metadata": {},
   "outputs": [],
   "source": [
    "characters['Actor date of birth'].info()"
   ]
  },
  {
   "cell_type": "code",
   "execution_count": null,
   "metadata": {},
   "outputs": [],
   "source": [
    "characters['Actor date of birth'].isnull().sum()/len(characters['Actor date of birth'])"
   ]
  },
  {
   "cell_type": "code",
   "execution_count": null,
   "metadata": {},
   "outputs": [],
   "source": [
    "characters.dropna(subset=['Actor date of birth'], inplace=True)"
   ]
  },
  {
   "cell_type": "code",
   "execution_count": null,
   "metadata": {},
   "outputs": [],
   "source": [
    "\n",
    "import re\n",
    "\n",
    "# Find unique formats using regex patterns\n",
    "def detect_date_format(date_str):\n",
    "    patterns = [\n",
    "        (r'\\d{4}-\\d{2}-\\d{2}', '%Y-%m-%d'),  # 2024-03-15\n",
    "        (r'\\d{2}-\\d{2}-\\d{4}', '%d-%m-%Y'),  # 15-03-2024\n",
    "        (r'\\d{2}/\\d{2}/\\d{4}', '%m/%d/%Y'),  # 03/15/2024\n",
    "        (r'[A-Za-z]+ \\d{1,2}, \\d{4}', '%B %d, %Y'),  # March 15, 2024\n",
    "        (r'\\d{4}/\\d{2}/\\d{2}', '%Y/%m/%d'),  # 2024/03/15\n",
    "        (r'^\\d{4}-\\d{2}$', '%Y-%m'),  # 2024-03\n",
    "        (r'^\\d{4}$', '%Y'),  # 2024\n",
    "    ]\n",
    "    \n",
    "    for pattern, fmt in patterns:\n",
    "        if re.match(pattern, date_str):\n",
    "            return fmt\n",
    "    return 'Unknown Format'\n",
    "\n",
    "# Apply detection\n",
    "characters['date_format'] = characters['Actor date of birth'].astype('str').apply(detect_date_format)\n",
    "\n",
    "# Show unique formats\n",
    "unique_formats = characters['date_format'].unique()\n",
    "\n",
    "characters['date_format'].value_counts(normalize=True)"
   ]
  },
  {
   "cell_type": "code",
   "execution_count": null,
   "metadata": {},
   "outputs": [],
   "source": [
    "characters[characters['date_format'] == 'Unknown Format']['Actor date of birth'].unique()"
   ]
  },
  {
   "cell_type": "code",
   "execution_count": null,
   "metadata": {},
   "outputs": [],
   "source": [
    "characters['Actor date of birth'] = characters.apply(\n",
    "    lambda row: pd.to_datetime(row['Actor date of birth'], format=row['date_format'], errors='coerce'),\n",
    "    axis=1\n",
    ")"
   ]
  },
  {
   "cell_type": "code",
   "execution_count": null,
   "metadata": {},
   "outputs": [],
   "source": [
    "characters.sort_values('Actor date of birth', ascending=False).head()"
   ]
  },
  {
   "cell_type": "code",
   "execution_count": null,
   "metadata": {},
   "outputs": [],
   "source": [
    "movies = analysis.movie_data\n",
    "movies"
   ]
  },
  {
   "cell_type": "code",
   "execution_count": null,
   "metadata": {},
   "outputs": [],
   "source": [
    "movies.dtypes"
   ]
  },
  {
   "cell_type": "code",
   "execution_count": null,
   "metadata": {},
   "outputs": [],
   "source": [
    "print(type(movies['Movie genres'].iloc[0]))"
   ]
  },
  {
   "cell_type": "code",
   "execution_count": null,
   "metadata": {},
   "outputs": [],
   "source": [
    "import pandas as pd\n",
    "import ast\n",
    "\n",
    "# Function to safely convert strings to dictionaries\n",
    "def safe_eval(val):\n",
    "    try:\n",
    "        return ast.literal_eval(val)  # Convert only if it's a valid string representation of a dictionary\n",
    "    except (ValueError, SyntaxError):\n",
    "        return None  # Return None if conversion fails\n",
    "\n",
    "# Apply function to the column\n",
    "movies['Movie genres'] = movies['Movie genres'].str.strip().apply(safe_eval)\n",
    "\n",
    "# Verify conversion\n",
    "print(type(movies['Movie genres'].iloc[0]))  # Should print <class 'dict'>\n",
    "\n",
    "# Convert dictionaries to lists of values (genre names)\n",
    "movies['Movie genres'] = movies['Movie genres'].apply(lambda x: list(x.values()) if isinstance(x, dict) else [])\n",
    "\n",
    "# Explode to separate rows\n",
    "movies = movies.explode('Movie genres')\n",
    "\n",
    "\n",
    "movies\n"
   ]
  },
  {
   "cell_type": "code",
   "execution_count": null,
   "metadata": {},
   "outputs": [],
   "source": [
    "movies['Movie genres'].value_counts().head(10)"
   ]
  }
 ],
 "metadata": {
  "kernelspec": {
   "display_name": "adpro",
   "language": "python",
   "name": "python3"
  },
  "language_info": {
   "codemirror_mode": {
    "name": "ipython",
    "version": 3
   },
   "file_extension": ".py",
   "mimetype": "text/x-python",
   "name": "python",
   "nbconvert_exporter": "python",
   "pygments_lexer": "ipython3",
   "version": "3.12.9"
  }
 },
 "nbformat": 4,
 "nbformat_minor": 2
}
